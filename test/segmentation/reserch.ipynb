{
 "cells": [
  {
   "cell_type": "code",
   "execution_count": 1,
   "metadata": {},
   "outputs": [],
   "source": [
    "import torch as th\n",
    "import numpy as np\n",
    "import matplotlib.pyplot as plt\n",
    "\n",
    "from fcn import FCNet\n",
    "from data_utils import SegmentationCOCOSet\n",
    "from torch.utils.data import DataLoader\n",
    "from trainer import FCNSegmentationTrainer\n",
    "from torchvision.transforms.v2 import Resize\n",
    "from torch.nn import ModuleList\n",
    "from torchvision.transforms.functional import to_pil_image"
   ]
  },
  {
   "cell_type": "code",
   "execution_count": 2,
   "metadata": {},
   "outputs": [],
   "source": [
    "tf = Resize(size=(128, 128))"
   ]
  },
  {
   "cell_type": "code",
   "execution_count": 3,
   "metadata": {},
   "outputs": [],
   "source": [
    "trainset = SegmentationCOCOSet(\n",
    "    data_dir=\"C:\\\\Users\\\\1\\\\Downloads\\\\segmes.v18i.coco-segmentation\",\n",
    "    data_split=\"train\",\n",
    "    images_size=(128, 128)\n",
    ")"
   ]
  },
  {
   "cell_type": "code",
   "execution_count": 4,
   "metadata": {},
   "outputs": [],
   "source": [
    "model = FCNet(\n",
    "    in_channels=3, \n",
    "    h_channels=128, \n",
    "    classes_n=trainset.classes_n\n",
    ")"
   ]
  },
  {
   "cell_type": "code",
   "execution_count": 5,
   "metadata": {},
   "outputs": [
    {
     "name": "stdout",
     "output_type": "stream",
     "text": [
      "torch.Size([1, 128, 128, 128])\n",
      "torch.Size([1, 64, 128, 128])\n",
      "torch.Size([1, 32, 128, 128])\n",
      "torch.Size([1, 128, 128, 128])\n"
     ]
    }
   ],
   "source": [
    "test_in = th.normal(0.12, 1.21, (1, 3, 128, 128))\n",
    "x = test_in\n",
    "for (name, params) in model.named_children():\n",
    "    \n",
    "    if \"down\" in name:\n",
    "        x = params(x)\n",
    "        print(tf(x).size())\n",
    "        "
   ]
  },
  {
   "cell_type": "code",
   "execution_count": 6,
   "metadata": {},
   "outputs": [],
   "source": [
    "trainer = FCNSegmentationTrainer(\n",
    "    run_folder=\"C:\\\\Users\\\\1\\\\Desktop\\\\PythonProjects\\\\DASLMTelegramBot\\\\test\\\\segmentation\\\\storage_segmentation\",\n",
    "    model=model,    \n",
    "    train_set=trainset,\n",
    "    epochs=32\n",
    ")"
   ]
  },
  {
   "cell_type": "code",
   "execution_count": 7,
   "metadata": {},
   "outputs": [
    {
     "name": "stderr",
     "output_type": "stream",
     "text": [
      "  3%|\u001b[32m▎         \u001b[0m| 1/32 [00:19<10:19, 19.98s/it]"
     ]
    },
    {
     "name": "stdout",
     "output_type": "stream",
     "text": [
      "Epoch: [0], Loss: [50.32111740112305]\n"
     ]
    },
    {
     "name": "stderr",
     "output_type": "stream",
     "text": [
      "  6%|\u001b[32m▋         \u001b[0m| 2/32 [00:39<09:54, 19.82s/it]"
     ]
    },
    {
     "name": "stdout",
     "output_type": "stream",
     "text": [
      "Epoch: [1], Loss: [42.08102035522461]\n"
     ]
    },
    {
     "name": "stderr",
     "output_type": "stream",
     "text": [
      "  9%|\u001b[32m▉         \u001b[0m| 3/32 [00:59<09:30, 19.67s/it]"
     ]
    },
    {
     "name": "stdout",
     "output_type": "stream",
     "text": [
      "Epoch: [2], Loss: [37.3172721862793]\n"
     ]
    },
    {
     "name": "stderr",
     "output_type": "stream",
     "text": [
      " 12%|\u001b[32m█▎        \u001b[0m| 4/32 [01:18<09:02, 19.36s/it]"
     ]
    },
    {
     "name": "stdout",
     "output_type": "stream",
     "text": [
      "Epoch: [3], Loss: [33.338722229003906]\n"
     ]
    },
    {
     "name": "stderr",
     "output_type": "stream",
     "text": [
      " 16%|\u001b[32m█▌        \u001b[0m| 5/32 [01:37<08:39, 19.24s/it]"
     ]
    },
    {
     "name": "stdout",
     "output_type": "stream",
     "text": [
      "Epoch: [4], Loss: [30.070154190063477]\n"
     ]
    },
    {
     "name": "stderr",
     "output_type": "stream",
     "text": [
      " 19%|\u001b[32m█▉        \u001b[0m| 6/32 [01:55<08:17, 19.12s/it]"
     ]
    },
    {
     "name": "stdout",
     "output_type": "stream",
     "text": [
      "Epoch: [5], Loss: [27.558528900146484]\n"
     ]
    },
    {
     "name": "stderr",
     "output_type": "stream",
     "text": [
      " 22%|\u001b[32m██▏       \u001b[0m| 7/32 [02:15<07:57, 19.12s/it]"
     ]
    },
    {
     "name": "stdout",
     "output_type": "stream",
     "text": [
      "Epoch: [6], Loss: [25.8916015625]\n"
     ]
    },
    {
     "name": "stderr",
     "output_type": "stream",
     "text": [
      " 25%|\u001b[32m██▌       \u001b[0m| 8/32 [02:34<07:44, 19.34s/it]"
     ]
    },
    {
     "name": "stdout",
     "output_type": "stream",
     "text": [
      "Epoch: [7], Loss: [24.1217098236084]\n"
     ]
    },
    {
     "name": "stderr",
     "output_type": "stream",
     "text": [
      " 28%|\u001b[32m██▊       \u001b[0m| 9/32 [02:54<07:23, 19.27s/it]"
     ]
    },
    {
     "name": "stdout",
     "output_type": "stream",
     "text": [
      "Epoch: [8], Loss: [22.38983726501465]\n"
     ]
    },
    {
     "name": "stderr",
     "output_type": "stream",
     "text": [
      " 31%|\u001b[32m███▏      \u001b[0m| 10/32 [03:13<07:05, 19.32s/it]"
     ]
    },
    {
     "name": "stdout",
     "output_type": "stream",
     "text": [
      "Epoch: [9], Loss: [21.33222198486328]\n"
     ]
    },
    {
     "name": "stderr",
     "output_type": "stream",
     "text": [
      " 34%|\u001b[32m███▍      \u001b[0m| 11/32 [03:32<06:45, 19.30s/it]"
     ]
    },
    {
     "name": "stdout",
     "output_type": "stream",
     "text": [
      "Epoch: [10], Loss: [20.237953186035156]\n"
     ]
    },
    {
     "name": "stderr",
     "output_type": "stream",
     "text": [
      " 38%|\u001b[32m███▊      \u001b[0m| 12/32 [03:52<06:26, 19.33s/it]"
     ]
    },
    {
     "name": "stdout",
     "output_type": "stream",
     "text": [
      "Epoch: [11], Loss: [19.393585205078125]\n"
     ]
    },
    {
     "name": "stderr",
     "output_type": "stream",
     "text": [
      " 41%|\u001b[32m████      \u001b[0m| 13/32 [04:11<06:09, 19.43s/it]"
     ]
    },
    {
     "name": "stdout",
     "output_type": "stream",
     "text": [
      "Epoch: [12], Loss: [18.844934463500977]\n"
     ]
    },
    {
     "name": "stderr",
     "output_type": "stream",
     "text": [
      " 44%|\u001b[32m████▍     \u001b[0m| 14/32 [04:31<05:49, 19.42s/it]"
     ]
    },
    {
     "name": "stdout",
     "output_type": "stream",
     "text": [
      "Epoch: [13], Loss: [18.302528381347656]\n"
     ]
    },
    {
     "name": "stderr",
     "output_type": "stream",
     "text": [
      " 47%|\u001b[32m████▋     \u001b[0m| 15/32 [04:50<05:31, 19.48s/it]"
     ]
    },
    {
     "name": "stdout",
     "output_type": "stream",
     "text": [
      "Epoch: [14], Loss: [18.222082138061523]\n"
     ]
    },
    {
     "name": "stderr",
     "output_type": "stream",
     "text": [
      " 50%|\u001b[32m█████     \u001b[0m| 16/32 [05:10<05:11, 19.49s/it]"
     ]
    },
    {
     "name": "stdout",
     "output_type": "stream",
     "text": [
      "Epoch: [15], Loss: [17.930816650390625]\n"
     ]
    },
    {
     "name": "stderr",
     "output_type": "stream",
     "text": [
      " 53%|\u001b[32m█████▎    \u001b[0m| 17/32 [05:29<04:53, 19.55s/it]"
     ]
    },
    {
     "name": "stdout",
     "output_type": "stream",
     "text": [
      "Epoch: [16], Loss: [17.664113998413086]\n"
     ]
    },
    {
     "name": "stderr",
     "output_type": "stream",
     "text": [
      " 56%|\u001b[32m█████▋    \u001b[0m| 18/32 [05:49<04:33, 19.57s/it]"
     ]
    },
    {
     "name": "stdout",
     "output_type": "stream",
     "text": [
      "Epoch: [17], Loss: [17.596899032592773]\n"
     ]
    },
    {
     "name": "stderr",
     "output_type": "stream",
     "text": [
      " 59%|\u001b[32m█████▉    \u001b[0m| 19/32 [06:09<04:14, 19.57s/it]"
     ]
    },
    {
     "name": "stdout",
     "output_type": "stream",
     "text": [
      "Epoch: [18], Loss: [17.14760398864746]\n"
     ]
    },
    {
     "name": "stderr",
     "output_type": "stream",
     "text": [
      " 62%|\u001b[32m██████▎   \u001b[0m| 20/32 [06:28<03:55, 19.59s/it]"
     ]
    },
    {
     "name": "stdout",
     "output_type": "stream",
     "text": [
      "Epoch: [19], Loss: [16.817296981811523]\n"
     ]
    },
    {
     "name": "stderr",
     "output_type": "stream",
     "text": [
      " 66%|\u001b[32m██████▌   \u001b[0m| 21/32 [06:49<03:38, 19.88s/it]"
     ]
    },
    {
     "name": "stdout",
     "output_type": "stream",
     "text": [
      "Epoch: [20], Loss: [16.705629348754883]\n"
     ]
    },
    {
     "name": "stderr",
     "output_type": "stream",
     "text": [
      " 69%|\u001b[32m██████▉   \u001b[0m| 22/32 [07:08<03:17, 19.79s/it]"
     ]
    },
    {
     "name": "stdout",
     "output_type": "stream",
     "text": [
      "Epoch: [21], Loss: [16.51227378845215]\n"
     ]
    },
    {
     "name": "stderr",
     "output_type": "stream",
     "text": [
      " 72%|\u001b[32m███████▏  \u001b[0m| 23/32 [07:28<02:57, 19.71s/it]"
     ]
    },
    {
     "name": "stdout",
     "output_type": "stream",
     "text": [
      "Epoch: [22], Loss: [16.425783157348633]\n"
     ]
    },
    {
     "name": "stderr",
     "output_type": "stream",
     "text": [
      " 75%|\u001b[32m███████▌  \u001b[0m| 24/32 [07:46<02:32, 19.11s/it]"
     ]
    },
    {
     "name": "stdout",
     "output_type": "stream",
     "text": [
      "Epoch: [23], Loss: [16.419105529785156]\n"
     ]
    },
    {
     "name": "stderr",
     "output_type": "stream",
     "text": [
      " 78%|\u001b[32m███████▊  \u001b[0m| 25/32 [08:03<02:10, 18.64s/it]"
     ]
    },
    {
     "name": "stdout",
     "output_type": "stream",
     "text": [
      "Epoch: [24], Loss: [16.24678611755371]\n"
     ]
    },
    {
     "name": "stderr",
     "output_type": "stream",
     "text": [
      " 81%|\u001b[32m████████▏ \u001b[0m| 26/32 [08:21<01:49, 18.30s/it]"
     ]
    },
    {
     "name": "stdout",
     "output_type": "stream",
     "text": [
      "Epoch: [25], Loss: [16.12582015991211]\n"
     ]
    },
    {
     "name": "stderr",
     "output_type": "stream",
     "text": [
      " 84%|\u001b[32m████████▍ \u001b[0m| 27/32 [08:38<01:30, 18.06s/it]"
     ]
    },
    {
     "name": "stdout",
     "output_type": "stream",
     "text": [
      "Epoch: [26], Loss: [16.07537841796875]\n"
     ]
    },
    {
     "name": "stderr",
     "output_type": "stream",
     "text": [
      " 88%|\u001b[32m████████▊ \u001b[0m| 28/32 [08:56<01:11, 17.92s/it]"
     ]
    },
    {
     "name": "stdout",
     "output_type": "stream",
     "text": [
      "Epoch: [27], Loss: [15.989818572998047]\n"
     ]
    },
    {
     "name": "stderr",
     "output_type": "stream",
     "text": [
      " 91%|\u001b[32m█████████ \u001b[0m| 29/32 [09:14<00:53, 17.84s/it]"
     ]
    },
    {
     "name": "stdout",
     "output_type": "stream",
     "text": [
      "Epoch: [28], Loss: [15.9950590133667]\n"
     ]
    },
    {
     "name": "stderr",
     "output_type": "stream",
     "text": [
      " 94%|\u001b[32m█████████▍\u001b[0m| 30/32 [09:31<00:35, 17.75s/it]"
     ]
    },
    {
     "name": "stdout",
     "output_type": "stream",
     "text": [
      "Epoch: [29], Loss: [15.95093059539795]\n"
     ]
    },
    {
     "name": "stderr",
     "output_type": "stream",
     "text": [
      " 97%|\u001b[32m█████████▋\u001b[0m| 31/32 [09:48<00:17, 17.61s/it]"
     ]
    },
    {
     "name": "stdout",
     "output_type": "stream",
     "text": [
      "Epoch: [30], Loss: [16.052541732788086]\n"
     ]
    },
    {
     "name": "stderr",
     "output_type": "stream",
     "text": [
      "100%|\u001b[32m██████████\u001b[0m| 32/32 [10:06<00:00, 18.95s/it]"
     ]
    },
    {
     "name": "stdout",
     "output_type": "stream",
     "text": [
      "Epoch: [31], Loss: [16.045677185058594]\n"
     ]
    },
    {
     "name": "stderr",
     "output_type": "stream",
     "text": [
      "\n"
     ]
    },
    {
     "data": {
      "text/plain": [
       "{'loss': [tensor(50.3211, grad_fn=<AddBackward0>),\n",
       "  tensor(42.0810, grad_fn=<AddBackward0>),\n",
       "  tensor(37.3173, grad_fn=<AddBackward0>),\n",
       "  tensor(33.3387, grad_fn=<AddBackward0>),\n",
       "  tensor(30.0702, grad_fn=<AddBackward0>),\n",
       "  tensor(27.5585, grad_fn=<AddBackward0>),\n",
       "  tensor(25.8916, grad_fn=<AddBackward0>),\n",
       "  tensor(24.1217, grad_fn=<AddBackward0>),\n",
       "  tensor(22.3898, grad_fn=<AddBackward0>),\n",
       "  tensor(21.3322, grad_fn=<AddBackward0>),\n",
       "  tensor(20.2380, grad_fn=<AddBackward0>),\n",
       "  tensor(19.3936, grad_fn=<AddBackward0>),\n",
       "  tensor(18.8449, grad_fn=<AddBackward0>),\n",
       "  tensor(18.3025, grad_fn=<AddBackward0>),\n",
       "  tensor(18.2221, grad_fn=<AddBackward0>),\n",
       "  tensor(17.9308, grad_fn=<AddBackward0>),\n",
       "  tensor(17.6641, grad_fn=<AddBackward0>),\n",
       "  tensor(17.5969, grad_fn=<AddBackward0>),\n",
       "  tensor(17.1476, grad_fn=<AddBackward0>),\n",
       "  tensor(16.8173, grad_fn=<AddBackward0>),\n",
       "  tensor(16.7056, grad_fn=<AddBackward0>),\n",
       "  tensor(16.5123, grad_fn=<AddBackward0>),\n",
       "  tensor(16.4258, grad_fn=<AddBackward0>),\n",
       "  tensor(16.4191, grad_fn=<AddBackward0>),\n",
       "  tensor(16.2468, grad_fn=<AddBackward0>),\n",
       "  tensor(16.1258, grad_fn=<AddBackward0>),\n",
       "  tensor(16.0754, grad_fn=<AddBackward0>),\n",
       "  tensor(15.9898, grad_fn=<AddBackward0>),\n",
       "  tensor(15.9951, grad_fn=<AddBackward0>),\n",
       "  tensor(15.9509, grad_fn=<AddBackward0>),\n",
       "  tensor(16.0525, grad_fn=<AddBackward0>),\n",
       "  tensor(16.0457, grad_fn=<AddBackward0>)]}"
      ]
     },
     "execution_count": 7,
     "metadata": {},
     "output_type": "execute_result"
    }
   ],
   "source": [
    "trainer.train() "
   ]
  },
  {
   "cell_type": "code",
   "execution_count": 8,
   "metadata": {},
   "outputs": [
    {
     "data": {
      "text/plain": [
       "<All keys matched successfully>"
      ]
     },
     "execution_count": 8,
     "metadata": {},
     "output_type": "execute_result"
    }
   ],
   "source": [
    "model.load_state_dict(th.load(\n",
    "    f=\"C:\\\\Users\\\\1\\\\Desktop\\\\PythonProjects\\\\DASLMTelegramBot\\\\test\\\\segmentation\\\\storage_segmentation\\\\model_params.pt\",\n",
    "    weights_only=True\n",
    "))"
   ]
  },
  {
   "cell_type": "code",
   "execution_count": 9,
   "metadata": {},
   "outputs": [],
   "source": [
    "BATCH_SIZE = 32\n",
    "test_loader = DataLoader(dataset=trainset, batch_size=32, shuffle=True)"
   ]
  },
  {
   "cell_type": "code",
   "execution_count": 10,
   "metadata": {},
   "outputs": [
    {
     "name": "stdout",
     "output_type": "stream",
     "text": [
      "torch.Size([32, 3, 128, 128]) torch.Size([32, 45, 128, 128])\n"
     ]
    }
   ],
   "source": [
    "images, segmentation_masks= next(iter(test_loader))\n",
    "print(images.size(), segmentation_masks.size())"
   ]
  },
  {
   "cell_type": "code",
   "execution_count": 11,
   "metadata": {},
   "outputs": [
    {
     "name": "stdout",
     "output_type": "stream",
     "text": [
      "tensor(1.)\n"
     ]
    }
   ],
   "source": [
    "print(th.max(segmentation_masks[2]))"
   ]
  },
  {
   "cell_type": "code",
   "execution_count": 12,
   "metadata": {},
   "outputs": [
    {
     "name": "stdout",
     "output_type": "stream",
     "text": [
      "torch.Size([32, 45, 128, 128])\n"
     ]
    }
   ],
   "source": [
    "model_out = model(images)\n",
    "print(model_out.size())"
   ]
  },
  {
   "cell_type": "code",
   "execution_count": 13,
   "metadata": {},
   "outputs": [
    {
     "data": {
      "image/png": "[encoded data removed]",
      "text/plain": [
       "<Figure size 640x480 with 24 Axes>"
      ]
     },
     "metadata": {},
     "output_type": "display_data"
    }
   ],
   "source": [
    "rd_idx = th.randint(0, 32, (1, )).item()\n",
    "samples = []\n",
    "for n in range(42):\n",
    "    if th.max(segmentation_masks[rd_idx, n, :, :]) > 0.0:\n",
    "        samples.append(np.array(to_pil_image(segmentation_masks[rd_idx, n, :, :])))\n",
    "\n",
    "if len(samples) > 1:\n",
    "\n",
    "    _, axis = plt.subplots(nrows=len(samples), ncols=2)\n",
    "    for i in range(len(samples)):\n",
    "        axis[i, 0].imshow(samples[i], cmap=\"jet\")\n",
    "        axis[i, 1].imshow(np.asarray(to_pil_image(model_out[rd_idx, i, :, :])), cmap=\"jet\")\n",
    "\n",
    "elif len(samples) > 0:\n",
    "    _, axis = plt.subplots()\n",
    "    axis.imshow(samples[0], cmap=\"jet\")\n",
    "\n",
    "\n",
    "plt.show()\n"
   ]
  }
 ],
 "metadata": {
  "kernelspec": {
   "display_name": "Python 3",
   "language": "python",
   "name": "python3"
  },
  "language_info": {
   "codemirror_mode": {
    "name": "ipython",
    "version": 3
   },
   "file_extension": ".py",
   "mimetype": "text/x-python",
   "name": "python",
   "nbconvert_exporter": "python",
   "pygments_lexer": "ipython3",
   "version": "3.11.3"
  }
 },
 "nbformat": 4,
 "nbformat_minor": 2
}
