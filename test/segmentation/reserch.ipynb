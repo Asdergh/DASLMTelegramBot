{
 "cells": [
  {
   "cell_type": "code",
   "execution_count": 1,
   "metadata": {},
   "outputs": [],
   "source": [
    "from fcn import FCNet\n",
    "from data_utils import SegmentationCOCOSet\n",
    "from trainer import FCNSegmentationTrainer"
   ]
  },
  {
   "cell_type": "code",
   "execution_count": 2,
   "metadata": {},
   "outputs": [],
   "source": [
    "trainset = SegmentationCOCOSet(\n",
    "    data_dir=\"C:\\\\Users\\\\1\\\\Downloads\\\\segmes.v18i.coco-segmentation\",\n",
    "    data_split=\"train\",\n",
    "    images_size=(128, 128)\n",
    ")"
   ]
  },
  {
   "cell_type": "code",
   "execution_count": 3,
   "metadata": {},
   "outputs": [],
   "source": [
    "model = FCNet(\n",
    "    in_channels=3, \n",
    "    h_channels=128, \n",
    "    classes_n=trainset.classes_n\n",
    ")"
   ]
  },
  {
   "cell_type": "code",
   "execution_count": 4,
   "metadata": {},
   "outputs": [],
   "source": [
    "trainer = FCNSegmentationTrainer(\n",
    "    model=model,    \n",
    "    train_set=trainset\n",
    ")"
   ]
  },
  {
   "cell_type": "code",
   "execution_count": 5,
   "metadata": {},
   "outputs": [
    {
     "name": "stderr",
     "output_type": "stream",
     "text": [
      "  0%|\u001b[32m          \u001b[0m| 0/100 [00:00<?, ?it/s]"
     ]
    },
    {
     "name": "stdout",
     "output_type": "stream",
     "text": [
      "torch.Size([32, 32, 16, 16]) torch.Size([32, 32, 16, 16])\n",
      "torch.Size([32, 32, 16, 16]) torch.Size([32, 32, 16, 16])\n",
      "torch.Size([32, 32, 16, 16]) torch.Size([32, 32, 16, 16])\n",
      "torch.Size([32, 32, 16, 16]) torch.Size([32, 32, 16, 16])\n",
      "torch.Size([32, 32, 16, 16]) torch.Size([32, 32, 16, 16])\n",
      "torch.Size([32, 32, 16, 16]) torch.Size([32, 32, 16, 16])\n",
      "torch.Size([3, 32, 16, 16]) torch.Size([3, 32, 16, 16])\n",
      "Epoch: [0], Loss: [50.06226348876953]\n"
     ]
    },
    {
     "name": "stderr",
     "output_type": "stream",
     "text": [
      "  1%|\u001b[32m          \u001b[0m| 1/100 [00:13<22:29, 13.63s/it]"
     ]
    },
    {
     "name": "stdout",
     "output_type": "stream",
     "text": [
      "torch.Size([32, 32, 16, 16]) torch.Size([32, 32, 16, 16])\n",
      "torch.Size([32, 32, 16, 16]) torch.Size([32, 32, 16, 16])\n",
      "torch.Size([32, 32, 16, 16]) torch.Size([32, 32, 16, 16])\n",
      "torch.Size([32, 32, 16, 16]) torch.Size([32, 32, 16, 16])\n",
      "torch.Size([32, 32, 16, 16]) torch.Size([32, 32, 16, 16])\n",
      "torch.Size([32, 32, 16, 16]) torch.Size([32, 32, 16, 16])\n"
     ]
    },
    {
     "name": "stderr",
     "output_type": "stream",
     "text": [
      "  2%|\u001b[32m▏         \u001b[0m| 2/100 [00:26<21:15, 13.02s/it]"
     ]
    },
    {
     "name": "stdout",
     "output_type": "stream",
     "text": [
      "torch.Size([3, 32, 16, 16]) torch.Size([3, 32, 16, 16])\n",
      "Epoch: [1], Loss: [42.69524383544922]\n",
      "torch.Size([32, 32, 16, 16]) torch.Size([32, 32, 16, 16])\n",
      "torch.Size([32, 32, 16, 16]) torch.Size([32, 32, 16, 16])\n",
      "torch.Size([32, 32, 16, 16]) torch.Size([32, 32, 16, 16])\n",
      "torch.Size([32, 32, 16, 16]) torch.Size([32, 32, 16, 16])\n",
      "torch.Size([32, 32, 16, 16]) torch.Size([32, 32, 16, 16])\n",
      "torch.Size([32, 32, 16, 16]) torch.Size([32, 32, 16, 16])\n"
     ]
    },
    {
     "name": "stderr",
     "output_type": "stream",
     "text": [
      "  3%|\u001b[32m▎         \u001b[0m| 3/100 [00:39<21:07, 13.07s/it]"
     ]
    },
    {
     "name": "stdout",
     "output_type": "stream",
     "text": [
      "torch.Size([3, 32, 16, 16]) torch.Size([3, 32, 16, 16])\n",
      "Epoch: [2], Loss: [37.559871673583984]\n",
      "torch.Size([32, 32, 16, 16]) torch.Size([32, 32, 16, 16])\n",
      "torch.Size([32, 32, 16, 16]) torch.Size([32, 32, 16, 16])\n",
      "torch.Size([32, 32, 16, 16]) torch.Size([32, 32, 16, 16])\n",
      "torch.Size([32, 32, 16, 16]) torch.Size([32, 32, 16, 16])\n",
      "torch.Size([32, 32, 16, 16]) torch.Size([32, 32, 16, 16])\n",
      "torch.Size([32, 32, 16, 16]) torch.Size([32, 32, 16, 16])\n"
     ]
    },
    {
     "name": "stderr",
     "output_type": "stream",
     "text": [
      "  4%|\u001b[32m▍         \u001b[0m| 4/100 [00:52<20:43, 12.96s/it]"
     ]
    },
    {
     "name": "stdout",
     "output_type": "stream",
     "text": [
      "torch.Size([3, 32, 16, 16]) torch.Size([3, 32, 16, 16])\n",
      "Epoch: [3], Loss: [33.690032958984375]\n",
      "torch.Size([32, 32, 16, 16]) torch.Size([32, 32, 16, 16])\n",
      "torch.Size([32, 32, 16, 16]) torch.Size([32, 32, 16, 16])\n",
      "torch.Size([32, 32, 16, 16]) torch.Size([32, 32, 16, 16])\n",
      "torch.Size([32, 32, 16, 16]) torch.Size([32, 32, 16, 16])\n",
      "torch.Size([32, 32, 16, 16]) torch.Size([32, 32, 16, 16])\n",
      "torch.Size([32, 32, 16, 16]) torch.Size([32, 32, 16, 16])\n"
     ]
    },
    {
     "name": "stderr",
     "output_type": "stream",
     "text": [
      "  5%|\u001b[32m▌         \u001b[0m| 5/100 [01:04<20:17, 12.81s/it]"
     ]
    },
    {
     "name": "stdout",
     "output_type": "stream",
     "text": [
      "torch.Size([3, 32, 16, 16]) torch.Size([3, 32, 16, 16])\n",
      "Epoch: [4], Loss: [30.738162994384766]\n",
      "torch.Size([32, 32, 16, 16]) torch.Size([32, 32, 16, 16])\n",
      "torch.Size([32, 32, 16, 16]) torch.Size([32, 32, 16, 16])\n",
      "torch.Size([32, 32, 16, 16]) torch.Size([32, 32, 16, 16])\n",
      "torch.Size([32, 32, 16, 16]) torch.Size([32, 32, 16, 16])\n",
      "torch.Size([32, 32, 16, 16]) torch.Size([32, 32, 16, 16])\n",
      "torch.Size([32, 32, 16, 16]) torch.Size([32, 32, 16, 16])\n"
     ]
    },
    {
     "name": "stderr",
     "output_type": "stream",
     "text": [
      "  6%|\u001b[32m▌         \u001b[0m| 6/100 [01:17<19:50, 12.66s/it]"
     ]
    },
    {
     "name": "stdout",
     "output_type": "stream",
     "text": [
      "torch.Size([3, 32, 16, 16]) torch.Size([3, 32, 16, 16])\n",
      "Epoch: [5], Loss: [28.11956024169922]\n",
      "torch.Size([32, 32, 16, 16]) torch.Size([32, 32, 16, 16])\n",
      "torch.Size([32, 32, 16, 16]) torch.Size([32, 32, 16, 16])\n",
      "torch.Size([32, 32, 16, 16]) torch.Size([32, 32, 16, 16])\n",
      "torch.Size([32, 32, 16, 16]) torch.Size([32, 32, 16, 16])\n",
      "torch.Size([32, 32, 16, 16]) torch.Size([32, 32, 16, 16])\n",
      "torch.Size([32, 32, 16, 16]) torch.Size([32, 32, 16, 16])\n"
     ]
    },
    {
     "name": "stderr",
     "output_type": "stream",
     "text": [
      "  7%|\u001b[32m▋         \u001b[0m| 7/100 [01:29<19:38, 12.67s/it]"
     ]
    },
    {
     "name": "stdout",
     "output_type": "stream",
     "text": [
      "torch.Size([3, 32, 16, 16]) torch.Size([3, 32, 16, 16])\n",
      "Epoch: [6], Loss: [25.817392349243164]\n",
      "torch.Size([32, 32, 16, 16]) torch.Size([32, 32, 16, 16])\n"
     ]
    },
    {
     "name": "stderr",
     "output_type": "stream",
     "text": [
      "  7%|\u001b[32m▋         \u001b[0m| 7/100 [01:32<20:27, 13.20s/it]\n"
     ]
    },
    {
     "ename": "KeyboardInterrupt",
     "evalue": "",
     "output_type": "error",
     "traceback": [
      "\u001b[1;31m---------------------------------------------------------------------------\u001b[0m",
      "\u001b[1;31mKeyboardInterrupt\u001b[0m                         Traceback (most recent call last)",
      "Cell \u001b[1;32mIn[5], line 1\u001b[0m\n\u001b[1;32m----> 1\u001b[0m \u001b[43mtrainer\u001b[49m\u001b[38;5;241;43m.\u001b[39;49m\u001b[43mtrain\u001b[49m\u001b[43m(\u001b[49m\u001b[43m)\u001b[49m\n",
      "File \u001b[1;32mc:\\Users\\1\\Desktop\\PythonProjects\\DASLMTelegramBot\\test\\segmentation\\trainer.py:57\u001b[0m, in \u001b[0;36mFCNSegmentationTrainer.train\u001b[1;34m(self)\u001b[0m\n\u001b[0;32m     54\u001b[0m loss \u001b[38;5;241m=\u001b[39m []\n\u001b[0;32m     55\u001b[0m \u001b[38;5;28;01mfor\u001b[39;00m epoch \u001b[38;5;129;01min\u001b[39;00m tq\u001b[38;5;241m.\u001b[39mtqdm(\u001b[38;5;28mrange\u001b[39m(\u001b[38;5;28mself\u001b[39m\u001b[38;5;241m.\u001b[39mepochs), colour\u001b[38;5;241m=\u001b[39m\u001b[38;5;124m\"\u001b[39m\u001b[38;5;124mgreen\u001b[39m\u001b[38;5;124m\"\u001b[39m):\n\u001b[1;32m---> 57\u001b[0m     local_loss \u001b[38;5;241m=\u001b[39m \u001b[38;5;28;43mself\u001b[39;49m\u001b[38;5;241;43m.\u001b[39;49m\u001b[43m_train_on_epoch\u001b[49m\u001b[43m(\u001b[49m\u001b[43mepoch\u001b[49m\u001b[38;5;241;43m=\u001b[39;49m\u001b[43mepoch\u001b[49m\u001b[43m)\u001b[49m\n\u001b[0;32m     58\u001b[0m     loss\u001b[38;5;241m.\u001b[39mappend(local_loss)\n\u001b[0;32m     59\u001b[0m     \u001b[38;5;28mprint\u001b[39m(\u001b[38;5;124mf\u001b[39m\u001b[38;5;124m\"\u001b[39m\u001b[38;5;124mEpoch: [\u001b[39m\u001b[38;5;132;01m{\u001b[39;00mepoch\u001b[38;5;132;01m}\u001b[39;00m\u001b[38;5;124m], Loss: [\u001b[39m\u001b[38;5;132;01m{\u001b[39;00mlocal_loss\u001b[38;5;132;01m}\u001b[39;00m\u001b[38;5;124m]\u001b[39m\u001b[38;5;124m\"\u001b[39m)\n",
      "File \u001b[1;32mc:\\Users\\1\\Desktop\\PythonProjects\\DASLMTelegramBot\\test\\segmentation\\trainer.py:41\u001b[0m, in \u001b[0;36mFCNSegmentationTrainer._train_on_epoch\u001b[1;34m(self, epoch)\u001b[0m\n\u001b[0;32m     38\u001b[0m \u001b[38;5;28;01mfor\u001b[39;00m (image, seg_masks) \u001b[38;5;129;01min\u001b[39;00m \u001b[38;5;28mself\u001b[39m\u001b[38;5;241m.\u001b[39mtrain_loader:\n\u001b[0;32m     40\u001b[0m     \u001b[38;5;28mself\u001b[39m\u001b[38;5;241m.\u001b[39moptim\u001b[38;5;241m.\u001b[39mzero_grad()\n\u001b[1;32m---> 41\u001b[0m     out \u001b[38;5;241m=\u001b[39m \u001b[38;5;28;43mself\u001b[39;49m\u001b[38;5;241;43m.\u001b[39;49m\u001b[43mmodel\u001b[49m\u001b[43m(\u001b[49m\u001b[43mimage\u001b[49m\u001b[43m)\u001b[49m\n\u001b[0;32m     42\u001b[0m     loss \u001b[38;5;241m=\u001b[39m \u001b[38;5;241m0.0\u001b[39m\n\u001b[0;32m     43\u001b[0m     \u001b[38;5;28;01mfor\u001b[39;00m (mask_pred, mask_target) \u001b[38;5;129;01min\u001b[39;00m \u001b[38;5;28mzip\u001b[39m(out, seg_masks):\n",
      "File \u001b[1;32mc:\\Users\\1\\Desktop\\PythonProjects\\DASLMTelegramBot\\test\\segmentation\\fcn.py:77\u001b[0m, in \u001b[0;36mFCNet.__call__\u001b[1;34m(self, inputs)\u001b[0m\n\u001b[0;32m     75\u001b[0m \u001b[38;5;28;01mdef\u001b[39;00m \u001b[38;5;21m__call__\u001b[39m(\u001b[38;5;28mself\u001b[39m, inputs: th\u001b[38;5;241m.\u001b[39mTensor) \u001b[38;5;241m-\u001b[39m\u001b[38;5;241m>\u001b[39m th\u001b[38;5;241m.\u001b[39mTensor:\n\u001b[1;32m---> 77\u001b[0m     d_conv0 \u001b[38;5;241m=\u001b[39m \u001b[43mth\u001b[49m\u001b[38;5;241;43m.\u001b[39;49m\u001b[43msin\u001b[49m\u001b[43m(\u001b[49m\u001b[38;5;28;43mself\u001b[39;49m\u001b[38;5;241;43m.\u001b[39;49m\u001b[43mconv0_down\u001b[49m\u001b[43m(\u001b[49m\u001b[43minputs\u001b[49m\u001b[43m)\u001b[49m\u001b[43m)\u001b[49m\n\u001b[0;32m     78\u001b[0m     d_conv1 \u001b[38;5;241m=\u001b[39m th\u001b[38;5;241m.\u001b[39msin(\u001b[38;5;28mself\u001b[39m\u001b[38;5;241m.\u001b[39mconv1_down(d_conv0))\n\u001b[0;32m     79\u001b[0m     d_conv2 \u001b[38;5;241m=\u001b[39m th\u001b[38;5;241m.\u001b[39msin(\u001b[38;5;28mself\u001b[39m\u001b[38;5;241m.\u001b[39mconv2_down(d_conv1))\n",
      "\u001b[1;31mKeyboardInterrupt\u001b[0m: "
     ]
    }
   ],
   "source": [
    "trainer.train()"
   ]
  }
 ],
 "metadata": {
  "kernelspec": {
   "display_name": "Python 3",
   "language": "python",
   "name": "python3"
  },
  "language_info": {
   "codemirror_mode": {
    "name": "ipython",
    "version": 3
   },
   "file_extension": ".py",
   "mimetype": "text/x-python",
   "name": "python",
   "nbconvert_exporter": "python",
   "pygments_lexer": "ipython3",
   "version": "3.11.3"
  }
 },
 "nbformat": 4,
 "nbformat_minor": 2
}
